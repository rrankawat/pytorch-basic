{
  "nbformat": 4,
  "nbformat_minor": 0,
  "metadata": {
    "colab": {
      "provenance": [],
      "authorship_tag": "ABX9TyMNTMzK2wLmtiK2F3hQp2us",
      "include_colab_link": true
    },
    "kernelspec": {
      "name": "python3",
      "display_name": "Python 3"
    },
    "language_info": {
      "name": "python"
    }
  },
  "cells": [
    {
      "cell_type": "markdown",
      "metadata": {
        "id": "view-in-github",
        "colab_type": "text"
      },
      "source": [
        "<a href=\"https://colab.research.google.com/github/rrankawat/pytorch-basic/blob/main/01_Tensors.ipynb\" target=\"_parent\"><img src=\"https://colab.research.google.com/assets/colab-badge.svg\" alt=\"Open In Colab\"/></a>"
      ]
    },
    {
      "cell_type": "markdown",
      "source": [
        "# Tensors\n",
        "\n",
        "\n",
        "*   A torch.Tensor is a multi-dimentional matrix containing elements of a single data type.\n",
        "*   Similar to Numpy Arrays, but full of fun things that make them work better on GPU's (vs regular CPU's).\n",
        "*   Default data type of float32.\n",
        "*   More suitable for deep learning than a numpy array.\n",
        "\n"
      ],
      "metadata": {
        "id": "Y_TmdvL0Lb1g"
      }
    },
    {
      "cell_type": "markdown",
      "source": [
        "# LISTS (Python)"
      ],
      "metadata": {
        "id": "k71Udar9PmPG"
      }
    },
    {
      "cell_type": "code",
      "source": [
        "# 1-D\n",
        "list_1d = [1, 2, 3, 4, 5, 6]\n",
        "list_1d"
      ],
      "metadata": {
        "colab": {
          "base_uri": "https://localhost:8080/"
        },
        "id": "zjnrHrVkPlOZ",
        "outputId": "68111da7-e122-4866-e78c-f61b5a7eae4c"
      },
      "execution_count": 28,
      "outputs": [
        {
          "output_type": "execute_result",
          "data": {
            "text/plain": [
              "[1, 2, 3, 4, 5, 6]"
            ]
          },
          "metadata": {},
          "execution_count": 28
        }
      ]
    },
    {
      "cell_type": "code",
      "source": [
        "# 2-D\n",
        "list_2d = [[1, 2, 3, 4, 5, 6], [6, 7, 8, 9, 10]]\n",
        "list_2d"
      ],
      "metadata": {
        "colab": {
          "base_uri": "https://localhost:8080/"
        },
        "id": "OSLHdPloQbTP",
        "outputId": "a26204cb-c09e-40a7-eb36-379705dfb77c"
      },
      "execution_count": 29,
      "outputs": [
        {
          "output_type": "execute_result",
          "data": {
            "text/plain": [
              "[[1, 2, 3, 4, 5, 6], [6, 7, 8, 9, 10]]"
            ]
          },
          "metadata": {},
          "execution_count": 29
        }
      ]
    },
    {
      "cell_type": "markdown",
      "source": [
        "# NUMPY ARRAYS (ML)"
      ],
      "metadata": {
        "id": "KsZdQdyAPprf"
      }
    },
    {
      "cell_type": "code",
      "source": [
        "import numpy as np"
      ],
      "metadata": {
        "id": "HiXEzudqQ0mT"
      },
      "execution_count": 30,
      "outputs": []
    },
    {
      "cell_type": "code",
      "source": [
        "# 2-D\n",
        "np_2d = np.random.rand(3, 4)\n",
        "np_2d"
      ],
      "metadata": {
        "colab": {
          "base_uri": "https://localhost:8080/"
        },
        "id": "-k1s8sQUPvtG",
        "outputId": "b44d65e9-8d13-473b-ffe5-9a3446a5f877"
      },
      "execution_count": 31,
      "outputs": [
        {
          "output_type": "execute_result",
          "data": {
            "text/plain": [
              "array([[0.66143269, 0.50461396, 0.48830635, 0.2003703 ],\n",
              "       [0.32834872, 0.6199419 , 0.9057087 , 0.76437586],\n",
              "       [0.44736913, 0.38590282, 0.85052919, 0.19137568]])"
            ]
          },
          "metadata": {},
          "execution_count": 31
        }
      ]
    },
    {
      "cell_type": "code",
      "source": [
        "np_2d.dtype"
      ],
      "metadata": {
        "colab": {
          "base_uri": "https://localhost:8080/"
        },
        "id": "T9iWeGmHRMD-",
        "outputId": "8db6eecc-c4dd-4f49-dab9-ca16304724e2"
      },
      "execution_count": 32,
      "outputs": [
        {
          "output_type": "execute_result",
          "data": {
            "text/plain": [
              "dtype('float64')"
            ]
          },
          "metadata": {},
          "execution_count": 32
        }
      ]
    },
    {
      "cell_type": "code",
      "source": [
        "# 3-D\n",
        "np_3d = np.random.rand(2, 3, 4)\n",
        "np_3d"
      ],
      "metadata": {
        "colab": {
          "base_uri": "https://localhost:8080/"
        },
        "id": "OzA4ACUvSYbS",
        "outputId": "028cf377-3008-4c6c-9988-5ea8b356668c"
      },
      "execution_count": 33,
      "outputs": [
        {
          "output_type": "execute_result",
          "data": {
            "text/plain": [
              "array([[[0.26294248, 0.26375447, 0.83267661, 0.0076114 ],\n",
              "        [0.75387694, 0.37354608, 0.75812627, 0.72214734],\n",
              "        [0.3641399 , 0.23348631, 0.54003925, 0.34139506]],\n",
              "\n",
              "       [[0.23717291, 0.39352042, 0.14542749, 0.65327382],\n",
              "        [0.62725319, 0.86131398, 0.82109834, 0.41464206],\n",
              "        [0.79961321, 0.61413263, 0.94546395, 0.71263231]]])"
            ]
          },
          "metadata": {},
          "execution_count": 33
        }
      ]
    },
    {
      "cell_type": "markdown",
      "source": [
        "# TENSORS (DL)"
      ],
      "metadata": {
        "id": "PoSXn0KsPwFB"
      }
    },
    {
      "cell_type": "code",
      "source": [
        "import torch"
      ],
      "metadata": {
        "id": "KiDduqftPyjd"
      },
      "execution_count": 34,
      "outputs": []
    },
    {
      "cell_type": "code",
      "source": [
        "# 2-D\n",
        "tensor_2d = torch.randn(3, 4)\n",
        "tensor_2d"
      ],
      "metadata": {
        "colab": {
          "base_uri": "https://localhost:8080/"
        },
        "id": "tisqBDQNRa6B",
        "outputId": "54be1e19-63fc-45b6-b42d-f7ba5d41dd93"
      },
      "execution_count": 35,
      "outputs": [
        {
          "output_type": "execute_result",
          "data": {
            "text/plain": [
              "tensor([[-0.2919, -0.3179, -0.2087, -1.7516],\n",
              "        [-0.1240, -0.3334, -0.4896, -0.1760],\n",
              "        [-0.9974,  2.8572, -0.9536,  0.6295]])"
            ]
          },
          "metadata": {},
          "execution_count": 35
        }
      ]
    },
    {
      "cell_type": "code",
      "source": [
        "tensor_2d.dtype"
      ],
      "metadata": {
        "colab": {
          "base_uri": "https://localhost:8080/"
        },
        "id": "4RyyDc45SiUg",
        "outputId": "e48b92d7-3775-4e42-9f95-d26aaef178cc"
      },
      "execution_count": 36,
      "outputs": [
        {
          "output_type": "execute_result",
          "data": {
            "text/plain": [
              "torch.float32"
            ]
          },
          "metadata": {},
          "execution_count": 36
        }
      ]
    },
    {
      "cell_type": "code",
      "source": [
        "# 3-D\n",
        "tensor_3d = torch.randn(2, 3, 4)\n",
        "tensor_3d"
      ],
      "metadata": {
        "colab": {
          "base_uri": "https://localhost:8080/"
        },
        "id": "dMPz216YR2xa",
        "outputId": "4b690b4e-79e5-4ae6-bf55-72e9f9d1b20d"
      },
      "execution_count": 37,
      "outputs": [
        {
          "output_type": "execute_result",
          "data": {
            "text/plain": [
              "tensor([[[-0.7158, -0.5613, -0.8523, -0.0380],\n",
              "         [ 0.3141,  0.7126,  0.7653,  0.5977],\n",
              "         [-0.2935, -1.0326,  0.1314,  1.0202]],\n",
              "\n",
              "        [[ 0.0488,  1.6134, -0.4695,  0.9255],\n",
              "         [-1.0223,  0.0396, -0.2967,  0.3614],\n",
              "         [ 0.9014, -0.2493,  1.5141, -1.1748]]])"
            ]
          },
          "metadata": {},
          "execution_count": 37
        }
      ]
    },
    {
      "cell_type": "markdown",
      "source": [
        "# Numpy To Tensor"
      ],
      "metadata": {
        "id": "RCfL37EiTGde"
      }
    },
    {
      "cell_type": "code",
      "source": [
        "my_tensor = torch.tensor(np_2d)\n",
        "my_tensor"
      ],
      "metadata": {
        "colab": {
          "base_uri": "https://localhost:8080/"
        },
        "id": "zicCp4_vTKim",
        "outputId": "5804660f-984f-44f2-d988-b6a05b6462ea"
      },
      "execution_count": 38,
      "outputs": [
        {
          "output_type": "execute_result",
          "data": {
            "text/plain": [
              "tensor([[0.6614, 0.5046, 0.4883, 0.2004],\n",
              "        [0.3283, 0.6199, 0.9057, 0.7644],\n",
              "        [0.4474, 0.3859, 0.8505, 0.1914]], dtype=torch.float64)"
            ]
          },
          "metadata": {},
          "execution_count": 38
        }
      ]
    }
  ]
}